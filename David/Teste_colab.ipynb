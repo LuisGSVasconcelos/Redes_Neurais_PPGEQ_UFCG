{
  "nbformat": 4,
  "nbformat_minor": 0,
  "metadata": {
    "colab": {
      "provenance": [],
      "authorship_tag": "ABX9TyO9k6aEkf1F3TMjfFV4ktZK"
    },
    "kernelspec": {
      "name": "python3",
      "display_name": "Python 3"
    },
    "language_info": {
      "name": "python"
    }
  },
  "cells": [
    {
      "cell_type": "code",
      "execution_count": 1,
      "metadata": {
        "colab": {
          "base_uri": "https://localhost:8080/"
        },
        "id": "6W20noo9vtOr",
        "outputId": "f6b344a2-dfa5-4f22-8b00-67d4ff185bb5"
      },
      "outputs": [
        {
          "output_type": "stream",
          "name": "stdout",
          "text": [
            "Hello Github\n"
          ]
        }
      ],
      "source": [
        "print(\"Hello Github\")"
      ]
    },
    {
      "cell_type": "code",
      "source": [
        "print(\"Teste de atualização\")"
      ],
      "metadata": {
        "colab": {
          "base_uri": "https://localhost:8080/"
        },
        "id": "3PIFYvz8x_gL",
        "outputId": "9d2857dc-5e0a-432d-fcb1-0ed4f1387746"
      },
      "execution_count": 2,
      "outputs": [
        {
          "output_type": "stream",
          "name": "stdout",
          "text": [
            "Teste de atualização\n"
          ]
        }
      ]
    }
  ]
}
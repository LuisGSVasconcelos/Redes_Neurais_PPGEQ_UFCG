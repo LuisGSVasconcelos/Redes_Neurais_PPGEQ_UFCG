{
  "nbformat": 4,
  "nbformat_minor": 0,
  "metadata": {
    "colab": {
      "provenance": [],
      "authorship_tag": "ABX9TyNDr4iyAzsKD3tiSn/sdg0T",
      "include_colab_link": true
    },
    "kernelspec": {
      "name": "python3",
      "display_name": "Python 3"
    },
    "language_info": {
      "name": "python"
    }
  },
  "cells": [
    {
      "cell_type": "markdown",
      "metadata": {
        "id": "view-in-github",
        "colab_type": "text"
      },
      "source": [
        "<a href=\"https://colab.research.google.com/github/LuisGSVasconcelos/Redes_Neurais_PPGEQ_UFCG/blob/main/Victor/Aula_3_1_VH.ipynb\" target=\"_parent\"><img src=\"https://colab.research.google.com/assets/colab-badge.svg\" alt=\"Open In Colab\"/></a>"
      ]
    },
    {
      "cell_type": "code",
      "execution_count": null,
      "metadata": {
        "id": "bJFP_mqNeEZC"
      },
      "outputs": [],
      "source": [
        "from sklearn.preprocessing import StandardScaler\n",
        "import numpy as np"
      ]
    },
    {
      "cell_type": "code",
      "source": [
        "x = np.array ([[1000, 0.01, 300],\n",
        "[1200, 0.06, 350],\n",
        "[1500, 0.1, 320]])"
      ],
      "metadata": {
        "id": "DM8aKFhLeTrh"
      },
      "execution_count": null,
      "outputs": []
    },
    {
      "cell_type": "code",
      "source": [
        "x"
      ],
      "metadata": {
        "colab": {
          "base_uri": "https://localhost:8080/"
        },
        "id": "45P-NQujeVxc",
        "outputId": "a669d466-c6de-4d08-a136-7dd8a5f87f40"
      },
      "execution_count": null,
      "outputs": [
        {
          "output_type": "execute_result",
          "data": {
            "text/plain": [
              "array([[1.0e+03, 1.0e-02, 3.0e+02],\n",
              "       [1.2e+03, 6.0e-02, 3.5e+02],\n",
              "       [1.5e+03, 1.0e-01, 3.2e+02]])"
            ]
          },
          "metadata": {},
          "execution_count": 3
        }
      ]
    },
    {
      "cell_type": "code",
      "source": [
        "scaler = StandardScaler().fit(x) # compute mean & std column-wise\n",
        "X_scaled = scaler.transform(x) # transform using computed mean and std"
      ],
      "metadata": {
        "id": "vB1Gmha6hgzq"
      },
      "execution_count": null,
      "outputs": []
    },
    {
      "cell_type": "code",
      "source": [
        "import matplotlib.pyplot as plt\n",
        "plt.figure()\n",
        "plt.title(\"StandardScaler\")\n",
        "plt.plot(x, X_scaled, 'b.')\n",
        "plt.xlabel(\"X\")\n",
        "plt.ylabel(\"X_scaled\")\n",
        "plt.show()"
      ],
      "metadata": {
        "colab": {
          "base_uri": "https://localhost:8080/",
          "height": 472
        },
        "id": "Dy3g9JTuehrX",
        "outputId": "b5431a97-573a-46b3-8d2a-a0eae35fb1bc"
      },
      "execution_count": null,
      "outputs": [
        {
          "output_type": "display_data",
          "data": {
            "text/plain": [
              "<Figure size 640x480 with 1 Axes>"
            ],
            "image/png": "[encoded data removed]"
          },
          "metadata": {}
        }
      ]
    },
    {
      "cell_type": "code",
      "source": [
        "x"
      ],
      "metadata": {
        "colab": {
          "base_uri": "https://localhost:8080/"
        },
        "id": "MuxCOqIThy7h",
        "outputId": "a9396ea4-6645-4a64-e69a-b33b7129bcf2"
      },
      "execution_count": null,
      "outputs": [
        {
          "output_type": "execute_result",
          "data": {
            "text/plain": [
              "array([[1.0e+03, 1.0e-02, 3.0e+02],\n",
              "       [1.2e+03, 6.0e-02, 3.5e+02],\n",
              "       [1.5e+03, 1.0e-01, 3.2e+02]])"
            ]
          },
          "metadata": {},
          "execution_count": 9
        }
      ]
    },
    {
      "cell_type": "code",
      "source": [
        "X_scaled"
      ],
      "metadata": {
        "colab": {
          "base_uri": "https://localhost:8080/"
        },
        "id": "MLiE0kP-hwa3",
        "outputId": "7e3dc337-c968-487d-fb07-376839eba920"
      },
      "execution_count": null,
      "outputs": [
        {
          "output_type": "execute_result",
          "data": {
            "text/plain": [
              "array([[-1.13554995, -1.26750044, -1.13554995],\n",
              "       [-0.16222142,  0.09053575,  1.29777137],\n",
              "       [ 1.29777137,  1.1769647 , -0.16222142]])"
            ]
          },
          "metadata": {},
          "execution_count": 8
        }
      ]
    },
    {
      "cell_type": "code",
      "source": [
        "import numpy as np\n",
        "print(\"Mean of X_scaled:\", np.mean(X_scaled))\n",
        "print(\"Standard deviation of X_scaled:\", np.std(X_scaled))\n",
        "print(\"Min of X_scaled:\", np.min(X_scaled))\n",
        "print(\"Max of X_scaled:\", np.max(X_scaled))\n",
        "print(\"Shape of X_scaled:\", X_scaled.shape)"
      ],
      "metadata": {
        "colab": {
          "base_uri": "https://localhost:8080/"
        },
        "id": "8ZXCRzPZh35S",
        "outputId": "21bb7ba6-6ac2-46e9-e8a3-7fd1c0ce56cd"
      },
      "execution_count": null,
      "outputs": [
        {
          "output_type": "stream",
          "name": "stdout",
          "text": [
            "Mean of X_scaled: 4.3792130415770066e-16\n",
            "Standard deviation of X_scaled: 0.9999999999999999\n",
            "Min of X_scaled: -1.2675004445952593\n",
            "Max of X_scaled: 1.2977713690461012\n",
            "Shape of X_scaled: (3, 3)\n"
          ]
        }
      ]
    },
    {
      "cell_type": "code",
      "source": [
        "from sklearn.preprocessing import MinMaxScaler\n",
        "\n",
        "scaler = MinMaxScaler () # create object\n",
        "X_scaled = scaler.fit_transform(x) # fit & transform"
      ],
      "metadata": {
        "id": "WSJkh_ariW2r"
      },
      "execution_count": null,
      "outputs": []
    },
    {
      "cell_type": "code",
      "source": [
        "X_scaled"
      ],
      "metadata": {
        "id": "wOxkH5rxjO1c",
        "outputId": "0238ef6d-7f14-480d-c9d6-d0b80dc31a34",
        "colab": {
          "base_uri": "https://localhost:8080/"
        }
      },
      "execution_count": null,
      "outputs": [
        {
          "output_type": "execute_result",
          "data": {
            "text/plain": [
              "array([[0.        , 0.        , 0.        ],\n",
              "       [0.4       , 0.55555556, 1.        ],\n",
              "       [1.        , 1.        , 0.4       ]])"
            ]
          },
          "metadata": {},
          "execution_count": 15
        }
      ]
    }
  ]
}
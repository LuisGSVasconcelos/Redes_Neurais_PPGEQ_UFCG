{
  "nbformat": 4,
  "nbformat_minor": 0,
  "metadata": {
    "colab": {
      "provenance": [],
      "authorship_tag": "ABX9TyNw1OnYzXhSKAkZnBl452MW",
      "include_colab_link": true
    },
    "kernelspec": {
      "name": "python3",
      "display_name": "Python 3"
    },
    "language_info": {
      "name": "python"
    }
  },
  "cells": [
    {
      "cell_type": "markdown",
      "metadata": {
        "id": "view-in-github",
        "colab_type": "text"
      },
      "source": [
        "<a href=\"https://colab.research.google.com/github/LuisGSVasconcelos/Redes_Neurais_PPGEQ_UFCG/blob/main/Victor/Aula_3_2_VH.ipynb\" target=\"_parent\"><img src=\"https://colab.research.google.com/assets/colab-badge.svg\" alt=\"Open In Colab\"/></a>"
      ]
    },
    {
      "cell_type": "code",
      "execution_count": null,
      "metadata": {
        "id": "KnD7FC1xkRWM"
      },
      "outputs": [],
      "source": [
        "# import libraries\n",
        "import numpy as np\n",
        "from sklearn.preprocessing import PolynomialFeatures\n",
        "from sklearn.preprocessing import StandardScaler\n",
        "from sklearn.linear_model import LinearRegression\n",
        "from sklearn.metrics import r2_score\n",
        "import matplotlib.pyplot as plt"
      ]
    },
    {
      "cell_type": "code",
      "source": [
        "# read data\n",
        "data = np.loadtxt('quadratic_raw_data.csv', delimiter=',')\n",
        "x = data[:,0:1]; y = data[:,1:] # equivalent to y = data[:,1,None] which returns 2D array"
      ],
      "metadata": {
        "id": "0Tgvydtk49T9"
      },
      "execution_count": null,
      "outputs": []
    },
    {
      "cell_type": "code",
      "source": [
        "data"
      ],
      "metadata": {
        "id": "4ZRVQfGO49me"
      },
      "execution_count": null,
      "outputs": []
    },
    {
      "cell_type": "code",
      "source": [
        "x"
      ],
      "metadata": {
        "id": "CZgB6Ba04-u5"
      },
      "execution_count": null,
      "outputs": []
    },
    {
      "cell_type": "code",
      "source": [
        "# Pre-process / Feature engineering\n",
        "poly = PolynomialFeatures(degree=2, include_bias=False)\n",
        "X_poly = poly.fit_transform(x) # X_poly: 1st column is x, 2nd column is x^2"
      ],
      "metadata": {
        "id": "gOQD51Hf5A5A"
      },
      "execution_count": null,
      "outputs": []
    },
    {
      "cell_type": "code",
      "source": [
        "# scale model input variables\n",
        "scaler = StandardScaler()\n",
        "X_scaled = scaler.fit_transform(X_poly)"
      ],
      "metadata": {
        "id": "UJIpmKmR5BSj"
      },
      "execution_count": null,
      "outputs": []
    },
    {
      "cell_type": "code",
      "source": [
        "# fit linear model & predict\n",
        "model = LinearRegression()\n",
        "model.fit(X_poly, y)\n",
        "y_predicted = model.predict(X_poly)"
      ],
      "metadata": {
        "id": "YajnIQ2l5Cnm"
      },
      "execution_count": null,
      "outputs": []
    },
    {
      "cell_type": "code",
      "source": [
        "# Assess model accuracy\n",
        "print('Fit accuracy = ', r2_score(y, y_predicted))\n",
        "\n",
        "# plot predictions\n",
        "plt.figure(figsize=(8, 5))\n",
        "plt.plot(x, y, 'o', label='raw data')\n",
        "plt.plot(x, y_predicted, label='quadratic fit')\n",
        "plt.legend()\n",
        "plt.xlabel('x'), plt.ylabel('y')\n",
        "plt.show()"
      ],
      "metadata": {
        "id": "ZXpGzROz5D1C"
      },
      "execution_count": null,
      "outputs": []
    }
  ]
}
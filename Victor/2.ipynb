{
  "nbformat": 4,
  "nbformat_minor": 0,
  "metadata": {
    "colab": {
      "provenance": [],
      "authorship_tag": "ABX9TyPT6XmDGyPSSS2evydCalN1",
      "include_colab_link": true
    },
    "kernelspec": {
      "name": "python3",
      "display_name": "Python 3"
    },
    "language_info": {
      "name": "python"
    }
  },
  "cells": [
    {
      "cell_type": "markdown",
      "metadata": {
        "id": "view-in-github",
        "colab_type": "text"
      },
      "source": [
        "<a href=\"https://colab.research.google.com/github/LuisGSVasconcelos/Redes_Neurais_PPGEQ_UFCG/blob/main/Victor/2.ipynb\" target=\"_parent\"><img src=\"https://colab.research.google.com/assets/colab-badge.svg\" alt=\"Open In Colab\"/></a>"
      ]
    },
    {
      "cell_type": "markdown",
      "source": [
        "## 2.5"
      ],
      "metadata": {
        "id": "rF6eYdjPdEQr"
      }
    },
    {
      "cell_type": "code",
      "execution_count": null,
      "metadata": {
        "id": "KnD7FC1xkRWM"
      },
      "outputs": [],
      "source": [
        "# import libraries\n",
        "import numpy as np\n",
        "from sklearn.preprocessing import PolynomialFeatures\n",
        "from sklearn.preprocessing import StandardScaler\n",
        "from sklearn.linear_model import LinearRegression\n",
        "from sklearn.metrics import r2_score\n",
        "import matplotlib.pyplot as plt"
      ]
    },
    {
      "cell_type": "code",
      "source": [
        "# read data\n",
        "data = np.loadtxt('quadratic_raw_data.csv', delimiter=',')\n",
        "x = data[:,0:1]; y = data[:,1:] # equivalent to y = data[:,1,None] which returns 2D array"
      ],
      "metadata": {
        "id": "0Tgvydtk49T9"
      },
      "execution_count": null,
      "outputs": []
    },
    {
      "cell_type": "code",
      "source": [
        "data"
      ],
      "metadata": {
        "id": "4ZRVQfGO49me",
        "outputId": "02b0116e-8b22-4b3d-b07b-96d1cba04e15",
        "colab": {
          "base_uri": "https://localhost:8080/"
        }
      },
      "execution_count": null,
      "outputs": [
        {
          "output_type": "execute_result",
          "data": {
            "text/plain": [
              "array([[-5.  , 19.  ],\n",
              "       [-4.4 , 18.  ],\n",
              "       [-4.35, 17.8 ],\n",
              "       [-4.1 , 16.  ],\n",
              "       [-4.05, 12.2 ],\n",
              "       [-4.  , 12.  ],\n",
              "       [-3.8 ,  7.  ],\n",
              "       [-3.7 ,  6.  ],\n",
              "       [-3.5 ,  5.5 ],\n",
              "       [-3.  ,  6.5 ],\n",
              "       [-2.9 ,  6.48],\n",
              "       [-2.8 ,  6.45],\n",
              "       [-2.  ,  2.5 ],\n",
              "       [-1.95,  2.45],\n",
              "       [-1.35,  0.  ],\n",
              "       [-1.3 , -0.25],\n",
              "       [-1.15, -3.  ],\n",
              "       [ 0.  , -1.  ],\n",
              "       [ 0.2 , -0.1 ],\n",
              "       [ 0.3 , -0.12],\n",
              "       [ 0.5 , -0.11],\n",
              "       [ 1.2 , -2.  ],\n",
              "       [ 1.7 ,  1.  ],\n",
              "       [ 1.8 ,  1.4 ],\n",
              "       [ 1.9 ,  1.45]])"
            ]
          },
          "metadata": {},
          "execution_count": 3
        }
      ]
    },
    {
      "cell_type": "code",
      "source": [
        "x"
      ],
      "metadata": {
        "id": "CZgB6Ba04-u5",
        "outputId": "c9d4fbf6-394c-4ee3-8581-c8853bd99ee0",
        "colab": {
          "base_uri": "https://localhost:8080/"
        }
      },
      "execution_count": null,
      "outputs": [
        {
          "output_type": "execute_result",
          "data": {
            "text/plain": [
              "array([[-5.  ],\n",
              "       [-4.4 ],\n",
              "       [-4.35],\n",
              "       [-4.1 ],\n",
              "       [-4.05],\n",
              "       [-4.  ],\n",
              "       [-3.8 ],\n",
              "       [-3.7 ],\n",
              "       [-3.5 ],\n",
              "       [-3.  ],\n",
              "       [-2.9 ],\n",
              "       [-2.8 ],\n",
              "       [-2.  ],\n",
              "       [-1.95],\n",
              "       [-1.35],\n",
              "       [-1.3 ],\n",
              "       [-1.15],\n",
              "       [ 0.  ],\n",
              "       [ 0.2 ],\n",
              "       [ 0.3 ],\n",
              "       [ 0.5 ],\n",
              "       [ 1.2 ],\n",
              "       [ 1.7 ],\n",
              "       [ 1.8 ],\n",
              "       [ 1.9 ]])"
            ]
          },
          "metadata": {},
          "execution_count": 4
        }
      ]
    },
    {
      "cell_type": "code",
      "source": [
        "# Pre-process / Feature engineering\n",
        "poly = PolynomialFeatures(degree=2, include_bias=False)\n",
        "X_poly = poly.fit_transform(x) # X_poly: 1st column is x, 2nd column is x^2"
      ],
      "metadata": {
        "id": "gOQD51Hf5A5A"
      },
      "execution_count": null,
      "outputs": []
    },
    {
      "cell_type": "code",
      "source": [
        "# scale model input variables\n",
        "scaler = StandardScaler()\n",
        "X_scaled = scaler.fit_transform(X_poly)"
      ],
      "metadata": {
        "id": "UJIpmKmR5BSj"
      },
      "execution_count": null,
      "outputs": []
    },
    {
      "cell_type": "code",
      "source": [
        "# fit linear model & predict\n",
        "model = LinearRegression()\n",
        "model.fit(X_poly, y)\n",
        "y_predicted = model.predict(X_poly)"
      ],
      "metadata": {
        "id": "YajnIQ2l5Cnm"
      },
      "execution_count": null,
      "outputs": []
    },
    {
      "cell_type": "code",
      "source": [
        "# Assess model accuracy\n",
        "print('Fit accuracy = ', r2_score(y, y_predicted))\n",
        "\n",
        "# plot predictions\n",
        "plt.figure(figsize=(8, 5))\n",
        "plt.plot(x, y, 'o', label='raw data')\n",
        "plt.plot(x, y_predicted, label='quadratic fit')\n",
        "plt.legend()\n",
        "plt.xlabel('x'), plt.ylabel('y')\n",
        "plt.show()"
      ],
      "metadata": {
        "id": "ZXpGzROz5D1C",
        "outputId": "c6b2a7bd-1a3a-480d-886e-a6fdf1fa6ebd",
        "colab": {
          "base_uri": "https://localhost:8080/",
          "height": 482
        }
      },
      "execution_count": null,
      "outputs": [
        {
          "output_type": "stream",
          "name": "stdout",
          "text": [
            "Fit accuracy =  0.9161437726284858\n"
          ]
        },
        {
          "output_type": "display_data",
          "data": {
            "text/plain": [
              "<Figure size 800x500 with 1 Axes>"
            ],
            "image/png": "[encoded data removed]"
          },
          "metadata": {}
        }
      ]
    }
  ]
}